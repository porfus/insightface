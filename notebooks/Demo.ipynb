{
 "cells": [
  {
   "cell_type": "code",
   "execution_count": 1,
   "metadata": {},
   "outputs": [],
   "source": [
    "import sys\n",
    "sys.path.insert(1, '../deploy')\n",
    "import face_model\n",
    "import argparse\n",
    "import cv2\n",
    "import sys\n",
    "import numpy as np\n",
    "import matplotlib.pyplot as plt"
   ]
  },
  {
   "cell_type": "code",
   "execution_count": 2,
   "metadata": {},
   "outputs": [],
   "source": [
    "parser = argparse.ArgumentParser(description='face model test')\n",
    "# general\n",
    "parser.add_argument('--image-size', default='112,112', help='')\n",
    "parser.add_argument('--model', default='', help='path to load model.')\n",
    "parser.add_argument('--ga-model', default='', help='path to load model.')\n",
    "parser.add_argument('--gpu', default=0, type=int, help='gpu id')\n",
    "parser.add_argument('--det', default=0, type=int, help='mtcnn option, 1 means using R+O, 0 means detect from begining')\n",
    "parser.add_argument('--flip', default=0, type=int, help='whether do lr flip aug')\n",
    "parser.add_argument('--threshold', default=1.24, type=float, help='ver dist threshold')\n",
    "arg=parser.parse_args('')\n",
    "arg.model='../models/model,0000'\n"
   ]
  },
  {
   "cell_type": "code",
   "execution_count": 3,
   "metadata": {},
   "outputs": [
    {
     "name": "stdout",
     "output_type": "stream",
     "text": [
      "Namespace(det=0, flip=0, ga_model='', gpu=0, image_size='112,112', model='../models/model,0000', threshold=1.24)\n",
      "loading ../models/model 0\n"
     ]
    },
    {
     "data": {
      "text/plain": [
       "25"
      ]
     },
     "execution_count": 3,
     "metadata": {},
     "output_type": "execute_result"
    }
   ],
   "source": [
    "arg.model='../models/model,0000'\n",
    "model=face_model.FaceModel(arg)\n",
    "img = cv2.imread('25.jpg')\n",
    "img = model.get_input(img)\n",
    "f2 = model.get_featurues_from_batch(img)\n",
    "len(img)"
   ]
  },
  {
   "cell_type": "code",
   "execution_count": 4,
   "metadata": {},
   "outputs": [],
   "source": [
    "def processUrl(url):\n",
    "  task=url    \n",
    "  imgFilus=mx.test_utils.download(task)\n",
    "  img1 = cv2.imread(imgFilus)\n",
    "  if img1 is None:\n",
    "    urlInfo={'url':task,'faces':None}\n",
    "    return urlInfo\n",
    "    \n",
    "  faceum = get_input(detector,img1)\n",
    "  if faceum is None:\n",
    "    urlInfo={'url':task,'faces':None}\n",
    "    return urlInfo\n",
    "  (pre1,bboxs)=faceum\n",
    "  if len(pre1)==0:\n",
    "    urlInfo={'url':task,'faces':None}\n",
    "    return urlInfo\n",
    "  out1 = get_feature(model,pre1) \n",
    "  faces=[]\n",
    "  for i in range(len(pre1)):\n",
    "    faces.append({'bbox':bboxs[i].tolist(), 'embedding':out1[i].tolist()})\n",
    "  urlInfo={'url':task,'faces':faces}\n",
    "  return urlInfo"
   ]
  },
  {
   "cell_type": "code",
   "execution_count": null,
   "metadata": {},
   "outputs": [],
   "source": [
    "print(euclidean(f1,f2))\n",
    "print(euclidean(f1,f3))\n",
    "print(euclidean(f1,f5))\n",
    "print(euclidean(f1,f6))\n",
    "print(euclidean(f1,f7))\n",
    "print(euclidean(f1,f4))"
   ]
  },
  {
   "cell_type": "code",
   "execution_count": null,
   "metadata": {},
   "outputs": [],
   "source": []
  }
 ],
 "metadata": {
  "kernelspec": {
   "display_name": "Python 3",
   "language": "python",
   "name": "python3"
  },
  "language_info": {
   "codemirror_mode": {
    "name": "ipython",
    "version": 3
   },
   "file_extension": ".py",
   "mimetype": "text/x-python",
   "name": "python",
   "nbconvert_exporter": "python",
   "pygments_lexer": "ipython3",
   "version": "3.7.3"
  }
 },
 "nbformat": 4,
 "nbformat_minor": 2
}
